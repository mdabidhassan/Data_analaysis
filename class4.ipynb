{
 "cells": [
  {
   "cell_type": "code",
   "execution_count": 3,
   "id": "55c9bcd5-9cf9-4d81-bdcf-8dde0d28c864",
   "metadata": {},
   "outputs": [
    {
     "name": "stdout",
     "output_type": "stream",
     "text": [
      "(2+4j)\n"
     ]
    },
    {
     "data": {
      "text/plain": [
       "complex"
      ]
     },
     "execution_count": 3,
     "metadata": {},
     "output_type": "execute_result"
    }
   ],
   "source": [
    "a=2\n",
    "b=4\n",
    "c=complex(a,b)\n",
    "print(c)\n",
    "type(c)"
   ]
  },
  {
   "cell_type": "code",
   "execution_count": 26,
   "id": "c94ffc35-bb87-4082-8f5b-0fb572b2b1f4",
   "metadata": {},
   "outputs": [
    {
     "name": "stdout",
     "output_type": "stream",
     "text": [
      "[3, 5, 6, 7, 3, 3]\n"
     ]
    }
   ],
   "source": [
    "list=[3,5,6,7,3,3,]\n",
    "print(list)"
   ]
  },
  {
   "cell_type": "code",
   "execution_count": 28,
   "id": "68ae03fb-768d-4057-ae1c-554c44d0b9a8",
   "metadata": {},
   "outputs": [
    {
     "name": "stdout",
     "output_type": "stream",
     "text": [
      "the set is: {3, 4, 333}\n"
     ]
    },
    {
     "data": {
      "text/plain": [
       "set"
      ]
     },
     "execution_count": 28,
     "metadata": {},
     "output_type": "execute_result"
    }
   ],
   "source": [
    "set={333,3,4,4,4}\n",
    "print('the set is:',set)\n",
    "type(set)\n"
   ]
  },
  {
   "cell_type": "code",
   "execution_count": 1,
   "id": "58c71c0e-5d94-4044-abd5-d11678ee8c0d",
   "metadata": {},
   "outputs": [
    {
     "name": "stdout",
     "output_type": "stream",
     "text": [
      "<class 'str'>\n"
     ]
    }
   ],
   "source": [
    "str1='ttryy'\n",
    "print(str)\n"
   ]
  },
  {
   "cell_type": "code",
   "execution_count": 3,
   "id": "c8a0be89-430d-48b1-9a25-0bf02d3fd727",
   "metadata": {},
   "outputs": [
    {
     "name": "stdout",
     "output_type": "stream",
     "text": [
      "(22, 44, 44, 65, 66)\n"
     ]
    }
   ],
   "source": [
    "tup1=(22,44,44,65,66)\n",
    "print(tup1)"
   ]
  },
  {
   "cell_type": "code",
   "execution_count": 9,
   "id": "c5cd82ac-f031-4fba-b130-a5ca4a3a0035",
   "metadata": {},
   "outputs": [
    {
     "name": "stdout",
     "output_type": "stream",
     "text": [
      "[0, 1, 2, 3, 4, 5, 6, 7, 8, 9, 10, 11, 12, 13, 14, 15, 16, 17, 18, 19, 20, 21, 22, 23, 24, 25, 26, 27, 28, 29, 30, 31, 32, 33, 34, 35, 36, 37, 38, 39, 40, 41, 42, 43, 44, 45, 46, 47, 48, 49, 50, 51, 52, 53, 54, 55, 56, 57, 58, 59, 60, 61, 62, 63, 64, 65, 66, 67, 68, 69, 70, 71, 72, 73, 74, 75, 76, 77, 78, 79, 80, 81, 82, 83, 84, 85, 86, 87, 88, 89, 90, 91, 92, 93, 94, 95, 96, 97, 98, 99]\n"
     ]
    }
   ],
   "source": [
    "rng1=range(0,100)\n",
    "rng1=list(rng1)\n",
    "print(rng1)"
   ]
  },
  {
   "cell_type": "code",
   "execution_count": 11,
   "id": "1ec3d620-5184-4b9b-9e76-522aa98adace",
   "metadata": {},
   "outputs": [
    {
     "name": "stdout",
     "output_type": "stream",
     "text": [
      "{'abid': 'pen', 'maisha': 'pencil'}\n"
     ]
    }
   ],
   "source": [
    "dic1={'abid':'pen','maisha':'pencil'}\n",
    "print(dic1)"
   ]
  }
 ],
 "metadata": {
  "kernelspec": {
   "display_name": "Python 3 (ipykernel)",
   "language": "python",
   "name": "python3"
  },
  "language_info": {
   "codemirror_mode": {
    "name": "ipython",
    "version": 3
   },
   "file_extension": ".py",
   "mimetype": "text/x-python",
   "name": "python",
   "nbconvert_exporter": "python",
   "pygments_lexer": "ipython3",
   "version": "3.12.4"
  }
 },
 "nbformat": 4,
 "nbformat_minor": 5
}
